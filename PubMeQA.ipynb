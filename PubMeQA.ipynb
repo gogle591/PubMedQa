{
  "nbformat": 4,
  "nbformat_minor": 0,
  "metadata": {
    "colab": {
      "name": "PubMeQA.ipynb",
      "provenance": [],
      "collapsed_sections": []
    },
    "kernelspec": {
      "name": "python3",
      "display_name": "Python 3"
    },
    "language_info": {
      "name": "python"
    }
  },
  "cells": [
    {
      "cell_type": "code",
      "metadata": {
        "colab": {
          "base_uri": "https://localhost:8080/"
        },
        "id": "8odfhTGKE4YK",
        "outputId": "b5f9ee63-8e12-4b20-d3d0-cb81168cbb1b"
      },
      "source": [
        "!pip install PyDrive"
      ],
      "execution_count": null,
      "outputs": [
        {
          "output_type": "stream",
          "text": [
            "Requirement already satisfied: PyDrive in /usr/local/lib/python3.7/dist-packages (1.3.1)\n",
            "Requirement already satisfied: oauth2client>=4.0.0 in /usr/local/lib/python3.7/dist-packages (from PyDrive) (4.1.3)\n",
            "Requirement already satisfied: PyYAML>=3.0 in /usr/local/lib/python3.7/dist-packages (from PyDrive) (3.13)\n",
            "Requirement already satisfied: google-api-python-client>=1.2 in /usr/local/lib/python3.7/dist-packages (from PyDrive) (1.12.8)\n",
            "Requirement already satisfied: rsa>=3.1.4 in /usr/local/lib/python3.7/dist-packages (from oauth2client>=4.0.0->PyDrive) (4.7.2)\n",
            "Requirement already satisfied: pyasn1>=0.1.7 in /usr/local/lib/python3.7/dist-packages (from oauth2client>=4.0.0->PyDrive) (0.4.8)\n",
            "Requirement already satisfied: pyasn1-modules>=0.0.5 in /usr/local/lib/python3.7/dist-packages (from oauth2client>=4.0.0->PyDrive) (0.2.8)\n",
            "Requirement already satisfied: httplib2>=0.9.1 in /usr/local/lib/python3.7/dist-packages (from oauth2client>=4.0.0->PyDrive) (0.17.4)\n",
            "Requirement already satisfied: six>=1.6.1 in /usr/local/lib/python3.7/dist-packages (from oauth2client>=4.0.0->PyDrive) (1.15.0)\n",
            "Requirement already satisfied: google-auth>=1.16.0 in /usr/local/lib/python3.7/dist-packages (from google-api-python-client>=1.2->PyDrive) (1.30.0)\n",
            "Requirement already satisfied: google-api-core<2dev,>=1.21.0 in /usr/local/lib/python3.7/dist-packages (from google-api-python-client>=1.2->PyDrive) (1.26.3)\n",
            "Requirement already satisfied: google-auth-httplib2>=0.0.3 in /usr/local/lib/python3.7/dist-packages (from google-api-python-client>=1.2->PyDrive) (0.0.4)\n",
            "Requirement already satisfied: uritemplate<4dev,>=3.0.0 in /usr/local/lib/python3.7/dist-packages (from google-api-python-client>=1.2->PyDrive) (3.0.1)\n",
            "Requirement already satisfied: cachetools<5.0,>=2.0.0 in /usr/local/lib/python3.7/dist-packages (from google-auth>=1.16.0->google-api-python-client>=1.2->PyDrive) (4.2.2)\n",
            "Requirement already satisfied: setuptools>=40.3.0 in /usr/local/lib/python3.7/dist-packages (from google-auth>=1.16.0->google-api-python-client>=1.2->PyDrive) (56.1.0)\n",
            "Requirement already satisfied: pytz in /usr/local/lib/python3.7/dist-packages (from google-api-core<2dev,>=1.21.0->google-api-python-client>=1.2->PyDrive) (2018.9)\n",
            "Requirement already satisfied: protobuf>=3.12.0 in /usr/local/lib/python3.7/dist-packages (from google-api-core<2dev,>=1.21.0->google-api-python-client>=1.2->PyDrive) (3.12.4)\n",
            "Requirement already satisfied: googleapis-common-protos<2.0dev,>=1.6.0 in /usr/local/lib/python3.7/dist-packages (from google-api-core<2dev,>=1.21.0->google-api-python-client>=1.2->PyDrive) (1.53.0)\n",
            "Requirement already satisfied: requests<3.0.0dev,>=2.18.0 in /usr/local/lib/python3.7/dist-packages (from google-api-core<2dev,>=1.21.0->google-api-python-client>=1.2->PyDrive) (2.23.0)\n",
            "Requirement already satisfied: packaging>=14.3 in /usr/local/lib/python3.7/dist-packages (from google-api-core<2dev,>=1.21.0->google-api-python-client>=1.2->PyDrive) (20.9)\n",
            "Requirement already satisfied: idna<3,>=2.5 in /usr/local/lib/python3.7/dist-packages (from requests<3.0.0dev,>=2.18.0->google-api-core<2dev,>=1.21.0->google-api-python-client>=1.2->PyDrive) (2.10)\n",
            "Requirement already satisfied: certifi>=2017.4.17 in /usr/local/lib/python3.7/dist-packages (from requests<3.0.0dev,>=2.18.0->google-api-core<2dev,>=1.21.0->google-api-python-client>=1.2->PyDrive) (2020.12.5)\n",
            "Requirement already satisfied: chardet<4,>=3.0.2 in /usr/local/lib/python3.7/dist-packages (from requests<3.0.0dev,>=2.18.0->google-api-core<2dev,>=1.21.0->google-api-python-client>=1.2->PyDrive) (3.0.4)\n",
            "Requirement already satisfied: urllib3!=1.25.0,!=1.25.1,<1.26,>=1.21.1 in /usr/local/lib/python3.7/dist-packages (from requests<3.0.0dev,>=2.18.0->google-api-core<2dev,>=1.21.0->google-api-python-client>=1.2->PyDrive) (1.24.3)\n",
            "Requirement already satisfied: pyparsing>=2.0.2 in /usr/local/lib/python3.7/dist-packages (from packaging>=14.3->google-api-core<2dev,>=1.21.0->google-api-python-client>=1.2->PyDrive) (2.4.7)\n"
          ],
          "name": "stdout"
        }
      ]
    },
    {
      "cell_type": "code",
      "metadata": {
        "id": "o5yX9-SQF8S_"
      },
      "source": [
        "from pydrive.auth import GoogleAuth\n",
        "from pydrive.drive import GoogleDrive\n",
        "from google.colab import auth\n",
        "from oauth2client.client import GoogleCredentials\n"
      ],
      "execution_count": null,
      "outputs": []
    },
    {
      "cell_type": "code",
      "metadata": {
        "id": "3p3TLiIJF9yG"
      },
      "source": [
        "auth.authenticate_user()\n",
        "gauth = GoogleAuth()\n",
        "gauth.credentials = GoogleCredentials.get_application_default()\n",
        "drive = GoogleDrive(gauth)"
      ],
      "execution_count": null,
      "outputs": []
    },
    {
      "cell_type": "code",
      "metadata": {
        "id": "8jyr-PP6F_MR"
      },
      "source": [
        "downloaded = drive.CreateFile({'id':\"1sCDgLFzHEzqnG2O0N64PqSzpPD4HNzKt\"})   # The id of the file ratings file\n",
        "downloaded.GetContentFile('test_ground_truth.json')        # The name of the file\n",
        "\n",
        "downloaded = drive.CreateFile({'id':\"19dlLFTQGBuIVzMt5XYU4pOnSE_KoyJbg\"})   # The id of the file ratings file\n",
        "downloaded.GetContentFile('ori_pqal.json')        # The name of the file\n",
        "\n",
        "downloaded = drive.CreateFile({'id':\"18vLJx5ZhkY7P_RDQtocKkxTQndxOODfe\"})   # The id of the file ratings file\n",
        "downloaded.GetContentFile('df.csv')        # The name of the file\n",
        "\n",
        "\n",
        "downloaded = drive.CreateFile({'id':\"1UHlmRXoB-iPkB51epmVxt7ybx_ZGSV-3\"})   # The id of the file ratings file\n",
        "downloaded.GetContentFile('Bruit_Dataframe.csv')        # The name of the file\n",
        "\n"
      ],
      "execution_count": null,
      "outputs": []
    },
    {
      "cell_type": "code",
      "metadata": {
        "id": "35Dc0XTPgLo9",
        "colab": {
          "base_uri": "https://localhost:8080/"
        },
        "outputId": "581e83c8-991c-4b73-b688-66bc8052de98"
      },
      "source": [
        "pip install mord"
      ],
      "execution_count": null,
      "outputs": [
        {
          "output_type": "stream",
          "text": [
            "Collecting mord\n",
            "  Downloading https://files.pythonhosted.org/packages/67/9d/c791c841501d9ff4ecb76b57f208dec6cf9f925109c59c995ddec80f9b32/mord-0.6.tar.gz\n",
            "Building wheels for collected packages: mord\n",
            "  Building wheel for mord (setup.py) ... \u001b[?25l\u001b[?25hdone\n",
            "  Created wheel for mord: filename=mord-0.6-cp37-none-any.whl size=6007 sha256=b18b332791717a655fca0fe0475a33deb8af08c2e27a3584d29238ffcdbdd2f5\n",
            "  Stored in directory: /root/.cache/pip/wheels/98/14/b2/244c2cec93a0c6edb29b488bd6b2710ded7e9d457033b86366\n",
            "Successfully built mord\n",
            "Installing collected packages: mord\n",
            "Successfully installed mord-0.6\n"
          ],
          "name": "stdout"
        }
      ]
    },
    {
      "cell_type": "code",
      "metadata": {
        "colab": {
          "base_uri": "https://localhost:8080/"
        },
        "id": "4FVPQUjQHErd",
        "outputId": "b8478b95-e5fc-4cf2-995c-231e483533c5"
      },
      "source": [
        "import pandas as pd\n",
        "import numpy as np\n",
        "from nltk.corpus import stopwords\n",
        "from nltk.tokenize import word_tokenize\n",
        "from nltk.tokenize import RegexpTokenizer\n",
        "from sklearn.feature_extraction.text import CountVectorizer\n",
        "from nltk.stem import WordNetLemmatizer\n",
        "from nltk.stem import PorterStemmer\n",
        "from sklearn.feature_extraction.text import TfidfVectorizer\n",
        "from sklearn.model_selection import train_test_split\n",
        "import nltk\n",
        "nltk.download('stopwords')\n",
        "nltk.download('wordnet')\n",
        "import mord\n",
        "import matplotlib.pyplot as plt\n"
      ],
      "execution_count": null,
      "outputs": [
        {
          "output_type": "stream",
          "text": [
            "[nltk_data] Downloading package stopwords to /root/nltk_data...\n",
            "[nltk_data]   Unzipping corpora/stopwords.zip.\n",
            "[nltk_data] Downloading package wordnet to /root/nltk_data...\n",
            "[nltk_data]   Unzipping corpora/wordnet.zip.\n"
          ],
          "name": "stdout"
        }
      ]
    },
    {
      "cell_type": "code",
      "metadata": {
        "id": "IvLR1ZzS4Nkp"
      },
      "source": [
        "df = pd.read_json('ori_pqal.json', orient='index')\n",
        "df_fulltext = pd.read_csv('df.csv').set_index('ID')\n",
        "\n",
        "df = df.merge(df_fulltext,how='inner',left_index=True,right_index=True)[['QUESTION','full_txt','LONG_ANSWER']].rename(columns={'LONG_ANSWER':'answer','QUESTION':'question'})\n",
        "df.to_json('data.json',orient='records')"
      ],
      "execution_count": null,
      "outputs": []
    },
    {
      "cell_type": "code",
      "metadata": {
        "colab": {
          "base_uri": "https://localhost:8080/",
          "height": 197
        },
        "id": "wDd112iFhkUO",
        "outputId": "9111b287-8f19-42d0-8516-fb1f9fa8d433"
      },
      "source": [
        "df.head()"
      ],
      "execution_count": null,
      "outputs": [
        {
          "output_type": "execute_result",
          "data": {
            "text/html": [
              "<div>\n",
              "<style scoped>\n",
              "    .dataframe tbody tr th:only-of-type {\n",
              "        vertical-align: middle;\n",
              "    }\n",
              "\n",
              "    .dataframe tbody tr th {\n",
              "        vertical-align: top;\n",
              "    }\n",
              "\n",
              "    .dataframe thead th {\n",
              "        text-align: right;\n",
              "    }\n",
              "</style>\n",
              "<table border=\"1\" class=\"dataframe\">\n",
              "  <thead>\n",
              "    <tr style=\"text-align: right;\">\n",
              "      <th></th>\n",
              "      <th>question</th>\n",
              "      <th>full_txt</th>\n",
              "      <th>answer</th>\n",
              "    </tr>\n",
              "  </thead>\n",
              "  <tbody>\n",
              "    <tr>\n",
              "      <th>21645374</th>\n",
              "      <td>Do mitochondria play a role in remodelling lac...</td>\n",
              "      <td>Do mitochondria play a role in remodelling lac...</td>\n",
              "      <td>Results depicted mitochondrial dynamics in viv...</td>\n",
              "    </tr>\n",
              "    <tr>\n",
              "      <th>9488747</th>\n",
              "      <td>Syncope during bathing in infants, a pediatric...</td>\n",
              "      <td>Les malaises du nourrisson sont frquents en pr...</td>\n",
              "      <td>\"Aquagenic maladies\" could be a pediatric form...</td>\n",
              "    </tr>\n",
              "    <tr>\n",
              "      <th>17208539</th>\n",
              "      <td>Are the long-term results of the transanal pul...</td>\n",
              "      <td>Are the long-term results of the transanal pul...</td>\n",
              "      <td>Our long-term study showed significantly bette...</td>\n",
              "    </tr>\n",
              "    <tr>\n",
              "      <th>10808977</th>\n",
              "      <td>Can tailored interventions increase mammograph...</td>\n",
              "      <td>Telephone counseling and tailored print commun...</td>\n",
              "      <td>The effects of the intervention were most pron...</td>\n",
              "    </tr>\n",
              "    <tr>\n",
              "      <th>26037986</th>\n",
              "      <td>30-Day and 1-year mortality in emergency gener...</td>\n",
              "      <td>30-Day and 1-year mortality in emergency gener...</td>\n",
              "      <td>Emergency laparotomy carries a high rate of mo...</td>\n",
              "    </tr>\n",
              "  </tbody>\n",
              "</table>\n",
              "</div>"
            ],
            "text/plain": [
              "                                                   question  ...                                             answer\n",
              "21645374  Do mitochondria play a role in remodelling lac...  ...  Results depicted mitochondrial dynamics in viv...\n",
              "9488747   Syncope during bathing in infants, a pediatric...  ...  \"Aquagenic maladies\" could be a pediatric form...\n",
              "17208539  Are the long-term results of the transanal pul...  ...  Our long-term study showed significantly bette...\n",
              "10808977  Can tailored interventions increase mammograph...  ...  The effects of the intervention were most pron...\n",
              "26037986  30-Day and 1-year mortality in emergency gener...  ...  Emergency laparotomy carries a high rate of mo...\n",
              "\n",
              "[5 rows x 3 columns]"
            ]
          },
          "metadata": {
            "tags": []
          },
          "execution_count": 15
        }
      ]
    },
    {
      "cell_type": "code",
      "metadata": {
        "colab": {
          "base_uri": "https://localhost:8080/",
          "height": 347
        },
        "id": "tC2jpy4-HFx5",
        "outputId": "c0608f38-c4df-48a5-eabe-fe2898a6e0a0"
      },
      "source": [
        "df = pd.read_json('ori_pqal.json', orient='index')\n",
        "\n",
        "df_fulltext = pd.read_csv('df.csv').set_index('ID')\n",
        "\n",
        "df_bruit = pd.read_csv('Bruit_Dataframe.csv').set_index('ID')[['Question','Answer','full_txt']].fillna(' ').rename(columns={'Question':'QUESTION','Answer':'LONG_ANSWER'})\n",
        "\n",
        "df = pd.concat([df.merge(df_fulltext,how='inner',left_index=True,right_index=True)[['QUESTION','full_txt','LONG_ANSWER']],df_bruit])\n",
        "\n",
        "Indexes = df.index\n",
        "\n",
        "df.head(10)"
      ],
      "execution_count": null,
      "outputs": [
        {
          "output_type": "execute_result",
          "data": {
            "text/html": [
              "<div>\n",
              "<style scoped>\n",
              "    .dataframe tbody tr th:only-of-type {\n",
              "        vertical-align: middle;\n",
              "    }\n",
              "\n",
              "    .dataframe tbody tr th {\n",
              "        vertical-align: top;\n",
              "    }\n",
              "\n",
              "    .dataframe thead th {\n",
              "        text-align: right;\n",
              "    }\n",
              "</style>\n",
              "<table border=\"1\" class=\"dataframe\">\n",
              "  <thead>\n",
              "    <tr style=\"text-align: right;\">\n",
              "      <th></th>\n",
              "      <th>QUESTION</th>\n",
              "      <th>full_txt</th>\n",
              "      <th>LONG_ANSWER</th>\n",
              "    </tr>\n",
              "  </thead>\n",
              "  <tbody>\n",
              "    <tr>\n",
              "      <th>21645374</th>\n",
              "      <td>Do mitochondria play a role in remodelling lac...</td>\n",
              "      <td>Do mitochondria play a role in remodelling lac...</td>\n",
              "      <td>Results depicted mitochondrial dynamics in viv...</td>\n",
              "    </tr>\n",
              "    <tr>\n",
              "      <th>9488747</th>\n",
              "      <td>Syncope during bathing in infants, a pediatric...</td>\n",
              "      <td>Les malaises du nourrisson sont frquents en pr...</td>\n",
              "      <td>\"Aquagenic maladies\" could be a pediatric form...</td>\n",
              "    </tr>\n",
              "    <tr>\n",
              "      <th>17208539</th>\n",
              "      <td>Are the long-term results of the transanal pul...</td>\n",
              "      <td>Are the long-term results of the transanal pul...</td>\n",
              "      <td>Our long-term study showed significantly bette...</td>\n",
              "    </tr>\n",
              "    <tr>\n",
              "      <th>10808977</th>\n",
              "      <td>Can tailored interventions increase mammograph...</td>\n",
              "      <td>Telephone counseling and tailored print commun...</td>\n",
              "      <td>The effects of the intervention were most pron...</td>\n",
              "    </tr>\n",
              "    <tr>\n",
              "      <th>26037986</th>\n",
              "      <td>30-Day and 1-year mortality in emergency gener...</td>\n",
              "      <td>30-Day and 1-year mortality in emergency gener...</td>\n",
              "      <td>Emergency laparotomy carries a high rate of mo...</td>\n",
              "    </tr>\n",
              "    <tr>\n",
              "      <th>26852225</th>\n",
              "      <td>Is adjustment for reporting heterogeneity nece...</td>\n",
              "      <td>Background: Anchoring vignettes are brief text...</td>\n",
              "      <td>Sleep disorders are common in the general adul...</td>\n",
              "    </tr>\n",
              "    <tr>\n",
              "      <th>17113061</th>\n",
              "      <td>Do mutations causing low HDL-C promote increas...</td>\n",
              "      <td>Background Although observational data support...</td>\n",
              "      <td>Genetic variants identified in the present stu...</td>\n",
              "    </tr>\n",
              "    <tr>\n",
              "      <th>10966337</th>\n",
              "      <td>A short stay or 23-hour ward in a general and ...</td>\n",
              "      <td>Objective: We evaluated the usefulness of a sh...</td>\n",
              "      <td>This data demonstrates the robust nature of th...</td>\n",
              "    </tr>\n",
              "    <tr>\n",
              "      <th>18847643</th>\n",
              "      <td>Therapeutic anticoagulation in the trauma pati...</td>\n",
              "      <td>Purpose. Trauma patients who require therapeut...</td>\n",
              "      <td>Trauma patients have a significant complicatio...</td>\n",
              "    </tr>\n",
              "    <tr>\n",
              "      <th>18239988</th>\n",
              "      <td>Differentiation of nonalcoholic from alcoholic...</td>\n",
              "      <td>Differentiation of nonalcoholic from alcoholic...</td>\n",
              "      <td>Higher MCVs and AST/ALT ratios in ASH reflect ...</td>\n",
              "    </tr>\n",
              "  </tbody>\n",
              "</table>\n",
              "</div>"
            ],
            "text/plain": [
              "                                                   QUESTION  ...                                        LONG_ANSWER\n",
              "21645374  Do mitochondria play a role in remodelling lac...  ...  Results depicted mitochondrial dynamics in viv...\n",
              "9488747   Syncope during bathing in infants, a pediatric...  ...  \"Aquagenic maladies\" could be a pediatric form...\n",
              "17208539  Are the long-term results of the transanal pul...  ...  Our long-term study showed significantly bette...\n",
              "10808977  Can tailored interventions increase mammograph...  ...  The effects of the intervention were most pron...\n",
              "26037986  30-Day and 1-year mortality in emergency gener...  ...  Emergency laparotomy carries a high rate of mo...\n",
              "26852225  Is adjustment for reporting heterogeneity nece...  ...  Sleep disorders are common in the general adul...\n",
              "17113061  Do mutations causing low HDL-C promote increas...  ...  Genetic variants identified in the present stu...\n",
              "10966337  A short stay or 23-hour ward in a general and ...  ...  This data demonstrates the robust nature of th...\n",
              "18847643  Therapeutic anticoagulation in the trauma pati...  ...  Trauma patients have a significant complicatio...\n",
              "18239988  Differentiation of nonalcoholic from alcoholic...  ...  Higher MCVs and AST/ALT ratios in ASH reflect ...\n",
              "\n",
              "[10 rows x 3 columns]"
            ]
          },
          "metadata": {
            "tags": []
          },
          "execution_count": 42
        }
      ]
    },
    {
      "cell_type": "code",
      "metadata": {
        "colab": {
          "base_uri": "https://localhost:8080/",
          "height": 406
        },
        "id": "IjgADTGDVGi_",
        "outputId": "47870039-edb9-451b-98d0-eda8213b458b"
      },
      "source": [
        ""
      ],
      "execution_count": null,
      "outputs": [
        {
          "output_type": "execute_result",
          "data": {
            "text/html": [
              "<div>\n",
              "<style scoped>\n",
              "    .dataframe tbody tr th:only-of-type {\n",
              "        vertical-align: middle;\n",
              "    }\n",
              "\n",
              "    .dataframe tbody tr th {\n",
              "        vertical-align: top;\n",
              "    }\n",
              "\n",
              "    .dataframe thead th {\n",
              "        text-align: right;\n",
              "    }\n",
              "</style>\n",
              "<table border=\"1\" class=\"dataframe\">\n",
              "  <thead>\n",
              "    <tr style=\"text-align: right;\">\n",
              "      <th></th>\n",
              "      <th>text</th>\n",
              "      <th>id</th>\n",
              "    </tr>\n",
              "  </thead>\n",
              "  <tbody>\n",
              "    <tr>\n",
              "      <th>21645374</th>\n",
              "      <td>Do mitochondria play a role in remodelling lac...</td>\n",
              "      <td>21645374</td>\n",
              "    </tr>\n",
              "    <tr>\n",
              "      <th>9488747</th>\n",
              "      <td>Les malaises du nourrisson sont frquents en pr...</td>\n",
              "      <td>9488747</td>\n",
              "    </tr>\n",
              "    <tr>\n",
              "      <th>17208539</th>\n",
              "      <td>Are the long-term results of the transanal pul...</td>\n",
              "      <td>17208539</td>\n",
              "    </tr>\n",
              "    <tr>\n",
              "      <th>10808977</th>\n",
              "      <td>Telephone counseling and tailored print commun...</td>\n",
              "      <td>10808977</td>\n",
              "    </tr>\n",
              "    <tr>\n",
              "      <th>26037986</th>\n",
              "      <td>30-Day and 1-year mortality in emergency gener...</td>\n",
              "      <td>26037986</td>\n",
              "    </tr>\n",
              "    <tr>\n",
              "      <th>...</th>\n",
              "      <td>...</td>\n",
              "      <td>...</td>\n",
              "    </tr>\n",
              "    <tr>\n",
              "      <th>33947378</th>\n",
              "      <td>Influence of hypertension and other risk facto...</td>\n",
              "      <td>33947378</td>\n",
              "    </tr>\n",
              "    <tr>\n",
              "      <th>33948486</th>\n",
              "      <td>Identifying and Analyzing Systems Failures: An...</td>\n",
              "      <td>33948486</td>\n",
              "    </tr>\n",
              "    <tr>\n",
              "      <th>33952211</th>\n",
              "      <td>From training to practice: a report of profess...</td>\n",
              "      <td>33952211</td>\n",
              "    </tr>\n",
              "    <tr>\n",
              "      <th>33954154</th>\n",
              "      <td>Mutational Analysis of a Familial Adenomatous ...</td>\n",
              "      <td>33954154</td>\n",
              "    </tr>\n",
              "    <tr>\n",
              "      <th>33959089</th>\n",
              "      <td>The Ototoxicity of Antimalarial Drugs:A State ...</td>\n",
              "      <td>33959089</td>\n",
              "    </tr>\n",
              "  </tbody>\n",
              "</table>\n",
              "<p>3513 rows × 2 columns</p>\n",
              "</div>"
            ],
            "text/plain": [
              "                                                       text        id\n",
              "21645374  Do mitochondria play a role in remodelling lac...  21645374\n",
              "9488747   Les malaises du nourrisson sont frquents en pr...   9488747\n",
              "17208539  Are the long-term results of the transanal pul...  17208539\n",
              "10808977  Telephone counseling and tailored print commun...  10808977\n",
              "26037986  30-Day and 1-year mortality in emergency gener...  26037986\n",
              "...                                                     ...       ...\n",
              "33947378  Influence of hypertension and other risk facto...  33947378\n",
              "33948486  Identifying and Analyzing Systems Failures: An...  33948486\n",
              "33952211  From training to practice: a report of profess...  33952211\n",
              "33954154  Mutational Analysis of a Familial Adenomatous ...  33954154\n",
              "33959089  The Ototoxicity of Antimalarial Drugs:A State ...  33959089\n",
              "\n",
              "[3513 rows x 2 columns]"
            ]
          },
          "metadata": {
            "tags": []
          },
          "execution_count": 18
        }
      ]
    },
    {
      "cell_type": "code",
      "metadata": {
        "id": "U_eKVZdvjUKA",
        "colab": {
          "base_uri": "https://localhost:8080/",
          "height": 387
        },
        "outputId": "27318d17-2e6d-4fe4-e094-76f5f96ef6f3"
      },
      "source": [
        "\n",
        "df1 = df[['QUESTION','LONG_ANSWER']].rename(columns={'LONG_ANSWER':'answer','QUESTION':'question'})\n",
        "df1['id'] = df1.index\n",
        "df1= df1.drop_duplicates(['id'])\n",
        "#df1.to_json('data.json',orient='records')"
      ],
      "execution_count": null,
      "outputs": [
        {
          "output_type": "error",
          "ename": "KeyError",
          "evalue": "ignored",
          "traceback": [
            "\u001b[0;31m---------------------------------------------------------------------------\u001b[0m",
            "\u001b[0;31mKeyError\u001b[0m                                  Traceback (most recent call last)",
            "\u001b[0;32m<ipython-input-11-a0b2b51611ee>\u001b[0m in \u001b[0;36m<module>\u001b[0;34m()\u001b[0m\n\u001b[1;32m      1\u001b[0m \u001b[0;34m\u001b[0m\u001b[0m\n\u001b[0;32m----> 2\u001b[0;31m \u001b[0mdf1\u001b[0m \u001b[0;34m=\u001b[0m \u001b[0mdf\u001b[0m\u001b[0;34m[\u001b[0m\u001b[0;34m[\u001b[0m\u001b[0;34m'QUESTION'\u001b[0m\u001b[0;34m,\u001b[0m\u001b[0;34m'LONG_ANSWER'\u001b[0m\u001b[0;34m]\u001b[0m\u001b[0;34m]\u001b[0m\u001b[0;34m.\u001b[0m\u001b[0mrename\u001b[0m\u001b[0;34m(\u001b[0m\u001b[0mcolumns\u001b[0m\u001b[0;34m=\u001b[0m\u001b[0;34m{\u001b[0m\u001b[0;34m'LONG_ANSWER'\u001b[0m\u001b[0;34m:\u001b[0m\u001b[0;34m'answer'\u001b[0m\u001b[0;34m,\u001b[0m\u001b[0;34m'QUESTION'\u001b[0m\u001b[0;34m:\u001b[0m\u001b[0;34m'question'\u001b[0m\u001b[0;34m}\u001b[0m\u001b[0;34m)\u001b[0m\u001b[0;34m\u001b[0m\u001b[0;34m\u001b[0m\u001b[0m\n\u001b[0m\u001b[1;32m      3\u001b[0m \u001b[0mdf1\u001b[0m\u001b[0;34m[\u001b[0m\u001b[0;34m'id'\u001b[0m\u001b[0;34m]\u001b[0m \u001b[0;34m=\u001b[0m \u001b[0mdf1\u001b[0m\u001b[0;34m.\u001b[0m\u001b[0mindex\u001b[0m\u001b[0;34m\u001b[0m\u001b[0;34m\u001b[0m\u001b[0m\n\u001b[1;32m      4\u001b[0m \u001b[0mdf1\u001b[0m\u001b[0;34m=\u001b[0m \u001b[0mdf1\u001b[0m\u001b[0;34m.\u001b[0m\u001b[0mdrop_duplicates\u001b[0m\u001b[0;34m(\u001b[0m\u001b[0;34m[\u001b[0m\u001b[0;34m'id'\u001b[0m\u001b[0;34m]\u001b[0m\u001b[0;34m)\u001b[0m\u001b[0;34m\u001b[0m\u001b[0;34m\u001b[0m\u001b[0m\n\u001b[1;32m      5\u001b[0m \u001b[0;31m#df1.to_json('data.json',orient='records')\u001b[0m\u001b[0;34m\u001b[0m\u001b[0;34m\u001b[0m\u001b[0;34m\u001b[0m\u001b[0m\n",
            "\u001b[0;32m/usr/local/lib/python3.7/dist-packages/pandas/core/frame.py\u001b[0m in \u001b[0;36m__getitem__\u001b[0;34m(self, key)\u001b[0m\n\u001b[1;32m   2910\u001b[0m             \u001b[0;32mif\u001b[0m \u001b[0mis_iterator\u001b[0m\u001b[0;34m(\u001b[0m\u001b[0mkey\u001b[0m\u001b[0;34m)\u001b[0m\u001b[0;34m:\u001b[0m\u001b[0;34m\u001b[0m\u001b[0;34m\u001b[0m\u001b[0m\n\u001b[1;32m   2911\u001b[0m                 \u001b[0mkey\u001b[0m \u001b[0;34m=\u001b[0m \u001b[0mlist\u001b[0m\u001b[0;34m(\u001b[0m\u001b[0mkey\u001b[0m\u001b[0;34m)\u001b[0m\u001b[0;34m\u001b[0m\u001b[0;34m\u001b[0m\u001b[0m\n\u001b[0;32m-> 2912\u001b[0;31m             \u001b[0mindexer\u001b[0m \u001b[0;34m=\u001b[0m \u001b[0mself\u001b[0m\u001b[0;34m.\u001b[0m\u001b[0mloc\u001b[0m\u001b[0;34m.\u001b[0m\u001b[0m_get_listlike_indexer\u001b[0m\u001b[0;34m(\u001b[0m\u001b[0mkey\u001b[0m\u001b[0;34m,\u001b[0m \u001b[0maxis\u001b[0m\u001b[0;34m=\u001b[0m\u001b[0;36m1\u001b[0m\u001b[0;34m,\u001b[0m \u001b[0mraise_missing\u001b[0m\u001b[0;34m=\u001b[0m\u001b[0;32mTrue\u001b[0m\u001b[0;34m)\u001b[0m\u001b[0;34m[\u001b[0m\u001b[0;36m1\u001b[0m\u001b[0;34m]\u001b[0m\u001b[0;34m\u001b[0m\u001b[0;34m\u001b[0m\u001b[0m\n\u001b[0m\u001b[1;32m   2913\u001b[0m \u001b[0;34m\u001b[0m\u001b[0m\n\u001b[1;32m   2914\u001b[0m         \u001b[0;31m# take() does not accept boolean indexers\u001b[0m\u001b[0;34m\u001b[0m\u001b[0;34m\u001b[0m\u001b[0;34m\u001b[0m\u001b[0m\n",
            "\u001b[0;32m/usr/local/lib/python3.7/dist-packages/pandas/core/indexing.py\u001b[0m in \u001b[0;36m_get_listlike_indexer\u001b[0;34m(self, key, axis, raise_missing)\u001b[0m\n\u001b[1;32m   1252\u001b[0m             \u001b[0mkeyarr\u001b[0m\u001b[0;34m,\u001b[0m \u001b[0mindexer\u001b[0m\u001b[0;34m,\u001b[0m \u001b[0mnew_indexer\u001b[0m \u001b[0;34m=\u001b[0m \u001b[0max\u001b[0m\u001b[0;34m.\u001b[0m\u001b[0m_reindex_non_unique\u001b[0m\u001b[0;34m(\u001b[0m\u001b[0mkeyarr\u001b[0m\u001b[0;34m)\u001b[0m\u001b[0;34m\u001b[0m\u001b[0;34m\u001b[0m\u001b[0m\n\u001b[1;32m   1253\u001b[0m \u001b[0;34m\u001b[0m\u001b[0m\n\u001b[0;32m-> 1254\u001b[0;31m         \u001b[0mself\u001b[0m\u001b[0;34m.\u001b[0m\u001b[0m_validate_read_indexer\u001b[0m\u001b[0;34m(\u001b[0m\u001b[0mkeyarr\u001b[0m\u001b[0;34m,\u001b[0m \u001b[0mindexer\u001b[0m\u001b[0;34m,\u001b[0m \u001b[0maxis\u001b[0m\u001b[0;34m,\u001b[0m \u001b[0mraise_missing\u001b[0m\u001b[0;34m=\u001b[0m\u001b[0mraise_missing\u001b[0m\u001b[0;34m)\u001b[0m\u001b[0;34m\u001b[0m\u001b[0;34m\u001b[0m\u001b[0m\n\u001b[0m\u001b[1;32m   1255\u001b[0m         \u001b[0;32mreturn\u001b[0m \u001b[0mkeyarr\u001b[0m\u001b[0;34m,\u001b[0m \u001b[0mindexer\u001b[0m\u001b[0;34m\u001b[0m\u001b[0;34m\u001b[0m\u001b[0m\n\u001b[1;32m   1256\u001b[0m \u001b[0;34m\u001b[0m\u001b[0m\n",
            "\u001b[0;32m/usr/local/lib/python3.7/dist-packages/pandas/core/indexing.py\u001b[0m in \u001b[0;36m_validate_read_indexer\u001b[0;34m(self, key, indexer, axis, raise_missing)\u001b[0m\n\u001b[1;32m   1296\u001b[0m             \u001b[0;32mif\u001b[0m \u001b[0mmissing\u001b[0m \u001b[0;34m==\u001b[0m \u001b[0mlen\u001b[0m\u001b[0;34m(\u001b[0m\u001b[0mindexer\u001b[0m\u001b[0;34m)\u001b[0m\u001b[0;34m:\u001b[0m\u001b[0;34m\u001b[0m\u001b[0;34m\u001b[0m\u001b[0m\n\u001b[1;32m   1297\u001b[0m                 \u001b[0maxis_name\u001b[0m \u001b[0;34m=\u001b[0m \u001b[0mself\u001b[0m\u001b[0;34m.\u001b[0m\u001b[0mobj\u001b[0m\u001b[0;34m.\u001b[0m\u001b[0m_get_axis_name\u001b[0m\u001b[0;34m(\u001b[0m\u001b[0maxis\u001b[0m\u001b[0;34m)\u001b[0m\u001b[0;34m\u001b[0m\u001b[0;34m\u001b[0m\u001b[0m\n\u001b[0;32m-> 1298\u001b[0;31m                 \u001b[0;32mraise\u001b[0m \u001b[0mKeyError\u001b[0m\u001b[0;34m(\u001b[0m\u001b[0;34mf\"None of [{key}] are in the [{axis_name}]\"\u001b[0m\u001b[0;34m)\u001b[0m\u001b[0;34m\u001b[0m\u001b[0;34m\u001b[0m\u001b[0m\n\u001b[0m\u001b[1;32m   1299\u001b[0m \u001b[0;34m\u001b[0m\u001b[0m\n\u001b[1;32m   1300\u001b[0m             \u001b[0;31m# We (temporarily) allow for some missing keys with .loc, except in\u001b[0m\u001b[0;34m\u001b[0m\u001b[0;34m\u001b[0m\u001b[0;34m\u001b[0m\u001b[0m\n",
            "\u001b[0;31mKeyError\u001b[0m: \"None of [Index(['QUESTION', 'LONG_ANSWER'], dtype='object')] are in the [columns]\""
          ]
        }
      ]
    },
    {
      "cell_type": "code",
      "metadata": {
        "id": "jjWDTkL-AMes"
      },
      "source": [
        "def Preprocessing(Text):\n",
        "\n",
        "  #### The preparation for the NLP traitement: \n",
        "  \n",
        "  # Get the stop words:\n",
        "  stop_words = stopwords.words('english')+['figure','table']\n",
        "\n",
        "  #initialize the tokenizer and the lemmatizer: \n",
        "  tokenizer = RegexpTokenizer(r'\\w+')\n",
        "  lemmatizer = WordNetLemmatizer()\n",
        "  ps = PorterStemmer()\n",
        "  \n",
        "  #Supprision des ponctuations:\n",
        "  symbols = \"'!\\\"#$%&()*+-./:;<=>?@[\\]^_`{|}~\\n\\t\"\n",
        "  \n",
        "  #Tokanizations:\n",
        "  text_tokens = tokenizer.tokenize(Text)\n",
        "  Result = ''\n",
        "  \n",
        "  #Supprisions des stops words, les valeurs numériques et les mots composés moins de 2 lettres:\n",
        "  for word in text_tokens:\n",
        "    if ( ( not word.lower() in stop_words ) & ( len(word) > 2 ) & ( not word.isdigit()) & (not word in symbols)  ):\n",
        "      \n",
        "      Result += ' ' + ps.stem(lemmatizer.lemmatize(word.lower()))\n",
        "      \n",
        "  \n",
        "  #Le resultat sous forme de String:\n",
        "  return Result"
      ],
      "execution_count": null,
      "outputs": []
    },
    {
      "cell_type": "code",
      "metadata": {
        "id": "GQY8jVP-THBc"
      },
      "source": [
        "def Tf_Idf_Matrix(Data):\n",
        "\n",
        "  tf_idf_vectorizer = TfidfVectorizer(ngram_range=(2,2),strip_accents = 'unicode')\n",
        "  X = tf_idf_vectorizer.fit_transform(Data)\n",
        "  df = pd.DataFrame.sparse.from_spmatrix(data=X,columns = tf_idf_vectorizer.get_feature_names())\n",
        "  \n",
        "  return df,tf_idf_vectorizer\n",
        "\n"
      ],
      "execution_count": null,
      "outputs": []
    },
    {
      "cell_type": "code",
      "metadata": {
        "id": "Wf_MWH97jHDT"
      },
      "source": [
        "def resize_matrices(df_questions,df_articles):\n",
        "  \n",
        "  #get the only the words that exist in the question\n",
        "  df_articles = df_articles.loc[:,df_articles.columns.isin(df_questions.columns)]\n",
        "  df_questions = df_questions[df_articles.columns]\n",
        "  return df_articles,df_questions\n"
      ],
      "execution_count": null,
      "outputs": []
    },
    {
      "cell_type": "code",
      "metadata": {
        "id": "rDn-6C798UCW"
      },
      "source": [
        "def Document_Retrivier_tfidf(df_questions,df_articles,n=5):\n",
        "  \n",
        "  score = np.dot(df_question.values , df_articles.values.transpose())\n",
        "  num_articles = score.shape[0]\n",
        "  articles = []\n",
        "  for i in range(num_articles):\n",
        "    article = score[i,:]\n",
        "    articles.append(list(article.argsort()[-n:][::-1]))\n",
        "  return articles"
      ],
      "execution_count": null,
      "outputs": []
    },
    {
      "cell_type": "code",
      "metadata": {
        "id": "twoAbTUKOdPV"
      },
      "source": [
        "def Document_Retrivier_tfidf(df_questions,df_articles,n=5):\n",
        "  \n",
        "  score = normalize(np.dot(df_question.values , df_articles.values.transpose()))\n",
        "  num_articles = score.shape[0]\n",
        "  articles = []\n",
        "  for i in range(num_articles):\n",
        "    article = score[i,:]\n",
        "    keys  = list(article.argsort()[-n:][::-1])\n",
        "    values    = list(article[keys])\n",
        "    zip_iterator = zip(keys, values)\n",
        "    articles.append(dict(zip_iterator))\n",
        "  return articles\n",
        "    "
      ],
      "execution_count": null,
      "outputs": []
    },
    {
      "cell_type": "code",
      "metadata": {
        "id": "MNAUvIqdIUWk"
      },
      "source": [
        "def Document_Retrivier_Baseline(df_questions,df_articles,thresholder = 0.7, gamma = 15):\n",
        "  \n",
        "  score = normalize(np.dot(df_question.values , df_articles.values.transpose()))\n",
        "  num_articles = score.shape[0]\n",
        "  articles = []\n",
        "  \n",
        "  for i in range(num_articles):\n",
        "    article = score[i,:]\n",
        "    values = np.array([])\n",
        "    keys = np.array([])\n",
        "    cpt = 0\n",
        "    nb_artical = 0\n",
        "    \n",
        "    while(cpt < thresholder and nb_artical < gamma):\n",
        "      arg = np.argmax(article)\n",
        "      keys = np.append(keys,arg)\n",
        "      values = np.append(values,article[arg])\n",
        "      cpt +=article[arg]\n",
        "      nb_artical +=1     \n",
        "      article[arg]=0\n",
        "    \n",
        "    zip_iterator = zip(keys.astype(int), values)\n",
        "    articles.append(dict(zip_iterator))\n",
        "\n",
        "  return articles"
      ],
      "execution_count": null,
      "outputs": []
    },
    {
      "cell_type": "code",
      "metadata": {
        "id": "P1JGHcqPt9Gh"
      },
      "source": [
        "def normalize(score):\n",
        "  \n",
        "  sum_of_rows = score.sum(axis=1)\n",
        "  normalized_score= score / sum_of_rows[:, np.newaxis]\n",
        "  \n",
        "  return np.nan_to_num(normalized_score)"
      ],
      "execution_count": null,
      "outputs": []
    },
    {
      "cell_type": "code",
      "metadata": {
        "id": "UtU8qIwuN9u1"
      },
      "source": [
        "def model_reg_ordinal(X_train,y_train):\n",
        "  reg = mord.OrdinalRidge(alpha=1.0, fit_intercept=True, normalize=False, copy_X=True, max_iter=100000, tol=0.001, solver='auto')\n",
        "  reg.fit(X_train, y_train)\n",
        "  return reg"
      ],
      "execution_count": null,
      "outputs": []
    },
    {
      "cell_type": "code",
      "metadata": {
        "id": "_FTVo4bKW0sp"
      },
      "source": [
        "def get_position(keys_doc, id):\n",
        "  i = 0\n",
        "  for elm in keys_doc:\n",
        "    if elm == id:\n",
        "      return i\n",
        "    i+=1\n",
        "  return i\n",
        "\n"
      ],
      "execution_count": null,
      "outputs": []
    },
    {
      "cell_type": "code",
      "metadata": {
        "id": "UMF6VSn3iqrn"
      },
      "source": [
        "def generate_train_data(df_question,df_full_txt,n=25):\n",
        "\n",
        "  X = np.array([])\n",
        "  Y = np.array([])\n",
        "  docs = Document_Retrivier_tfidf(df_question,df_full_txt,n)\n",
        "  id = 0\n",
        "  for article in docs[0:710] :\n",
        "    X = np.append(X,list(article.values()))\n",
        "    Y = np.append(Y,get_position(article.keys(),id))\n",
        "    id+=1\n",
        "  \n",
        "  return X.reshape(len(docs[0:710]),n),Y.astype(int)\n",
        "     \n",
        "\n",
        "\n",
        "\n",
        "\n",
        "\n",
        "\n"
      ],
      "execution_count": null,
      "outputs": []
    },
    {
      "cell_type": "code",
      "metadata": {
        "id": "J2LsbAcuNWvH"
      },
      "source": [
        "def adaptive(y_pred,score):\n",
        "  result = []\n",
        "  for i in range(len(y_pred)):\n",
        "    number = int(y_pred[i])\n",
        "    result.append(dict(list(score[i].items())[:number]))\n",
        "  \n",
        "  return result\n"
      ],
      "execution_count": null,
      "outputs": []
    },
    {
      "cell_type": "code",
      "metadata": {
        "id": "4qTxplg3YMsv"
      },
      "source": [
        "def Accuracy(y_pred,y_test):\n",
        "  score = 0\n",
        "  for i in range(len(y_pred)):\n",
        "    if y_test[i] in y_pred[i].keys():\n",
        "      score +=1\n",
        "  \n",
        "  return score / len(y_pred)\n",
        "    \n",
        "\n",
        "\n",
        "\n"
      ],
      "execution_count": null,
      "outputs": []
    },
    {
      "cell_type": "code",
      "metadata": {
        "id": "GsDQYGv4L8RQ"
      },
      "source": [
        "def eval(df_questions,df_full_txt):\n",
        "  x = list(range(1,11))\n",
        "  y_test = range(711)\n",
        "  y = []\n",
        "  for n in x :\n",
        "    y_pred = Document_Retrivier_tfidf(df_questions,df_full_txt,n=n)[:710]\n",
        "    y.append(Accuracy(y_pred,y_test))\n",
        "  return x,y\n"
      ],
      "execution_count": null,
      "outputs": []
    },
    {
      "cell_type": "code",
      "metadata": {
        "id": "gS79yBe-noOF"
      },
      "source": [
        "def eval(df_questions,df_full_txt):\n",
        "  x = list(range(1,11))\n",
        "  y_test = range(711)\n",
        "  y = []\n",
        "  for n in x :\n",
        "    y_pred = Document_Retrivier_Baseline(df_question,df_full_txt,thresholder=n/10,gamma=10)[:710]\n",
        "    y.append(Accuracy(y_pred,y_test))\n",
        "  return x,y"
      ],
      "execution_count": null,
      "outputs": []
    },
    {
      "cell_type": "code",
      "metadata": {
        "id": "r8HxgKm0Hwr5"
      },
      "source": [
        "df['Vect_Question'] = df['QUESTION'].apply(lambda x : Preprocessing(x))\n",
        "df['Vect_full_txt']  = df['full_txt'].apply(lambda x :Preprocessing(x))"
      ],
      "execution_count": null,
      "outputs": []
    },
    {
      "cell_type": "code",
      "metadata": {
        "id": "RLZLDz39hplh"
      },
      "source": [
        "df['Vect_Question'] = df['question'].apply(lambda x : Preprocessing(x))\n",
        "df['Vect_full_txt']  = df['full_txt'].apply(lambda x :Preprocessing(x))"
      ],
      "execution_count": null,
      "outputs": []
    },
    {
      "cell_type": "code",
      "metadata": {
        "colab": {
          "base_uri": "https://localhost:8080/"
        },
        "id": "mDPGH1Fro7RV",
        "outputId": "efe110e8-b552-42a8-df11-a3d1e164857c"
      },
      "source": [
        "list(df['Vect_full_txt'].head(1))"
      ],
      "execution_count": null,
      "outputs": [
        {
          "output_type": "execute_result",
          "data": {
            "text/plain": [
              "[' mitochondrion play role remodel lace plant leaf program cell death lord background program cell death pcd regul death cell within organ lace plant aponogeton madagascariensi produc perfor leaf pcd leaf plant consist latticework longitudin transvers vein enclos areol pcd occur cell center areol progress outward stop approxim five cell vasculatur role mitochondrion pcd recogn anim howev le studi pcd plant result follow paper elucid role mitochondri dynam development regul pcd vivo madagascariensi singl areol within window stage leaf pcd occur divid three area base progress pcd cell undergo pcd npcd cell earli stage pcd epcd cell late stage pcd lpcd window stage leaf stain mitochondri dye mitotrack red cmxro examin mitochondri dynam delin four categori base characterist includ distribut motil membran potenti tunel assay show fragment ndna gradient mitochondri stage chloroplast transvacuolar strand also examin use live cell imag possibl import mitochondri permeabl transit pore ptp format pcd indirectli examin via vivo cyclosporin csa treatment treatment result lace plant leaf significantli lower number perfor compar control display mitochondri dynam similar non pcd cell conclus result depict mitochondri dynam vivo pcd progress within lace plant highlight correl organel organel development pcd best knowledg first report mitochondrion chloroplast move transvacuolar strand form ring structur surround nucleu development pcd also first time shown feasibl use csa whole plant system overal find implic mitochondrion play critic earli role development regul pcd lace plant program cell death pcd regul death cell within organ plant system development regul pcd thought trigger intern signal consid part typic develop exampl development regul pcd includ limit delet embryon suspensor xylem differenti leaf morphogenesi seen lace plant madagascariensi monstera obliqua mitochondrion known function pcd anim system role organel larg elucid within system convers le known regard mitochondrion pcd plant within anim system mitochondrion appear undergo one two physiolog chang lead releas intern membran space im protein allow membran permeabl transit mpt inevit aid pcd signal one hypothes strategi involv permeabl transit pore ptp multiprotein complex consist voltag depend ion channel vdac adnt cyclophilin cyd format ptp initi number factor includ limit cell injuri oxid stress accumul calcium cytosol mitochondri matrix increas atp ro phosphat well chang addit evid suggest cyclosporin csa act disrupt ptp displac bind cyd adnt within anim system theori csa inhibit ptp format lead key advanc understand second pathway mitochondrion releas im protein second strategi propos involv bcl famili protein util vdac bcl2 famili divid two distinct group base function anti apoptot protein includ bcl bcl pro apoptot protein includ bax bak bad bid amount proapoptot bcl protein increas amount antiapoptot bcl protein decreas vdac work independ releas im protein aid pcd signal aquat freshwat lace plant madagascariensi excel model system studi development pcd plant one forti speci monogener famili aponogetonacea speci famili form perfor leaf via pcd process leaf plant thin transpar facilit long term live cell imag cell death process well develop method steril cultur plant also provid plant materi microbi contamin perfor format within plant also predict perfor consist form areol photosynthet tissu longitudin transvers vein entir leaf surfac whole plant level leaf develop divid five stage stage initi stage pre perfor involv longitudin roll often pink leaf perfor present pink color due pigment anthocyanin found vacuol mesophyl cell stage window character distinct transpar region centr vascular tissu due loss pigment chlorophyl anthocyanin stage perfor format involv degrad cytoplasm cell wall cell result loss transpar cell centr window stage perfor expans character expans perfor within areol lastli stage complet perfor result complet perfor tini perfor continu increas size leaf blade grow mechan development regul pcd cellular level within lace plant begun elucid common characterist pcd previous describ leaf morphogenesi lace plant includ loss anthocyanin chlorophyl chloroplast degrad cessat cytoplasm stream increas vesicl format plasma membran bleb preliminari result indic indirect evid regul etr1 receptor well involv caspas like activ pcd process lace plant unpublish date littl research conduct transvacuolar strand research conduct specif mitochondrion within development regul cell death system follow paper aim elucid role mitochondri dynam relat organel development regul pcd novel model speci madagascariensi use live cell imag techniqu within stage window stage leaf development pcd least advanc leaf blade edg advanc closest midrib order elucid organel chang pcd individu areol within window stage leaf subdivid three differ area base progress cell death non pcd cell npcd previous regard wright line insid border window consist cell never undergo cell death cell normal markedli pink color due pigment anthocyanin area denot consist cell white red line cell adjac npcd cell die via pcd earliest stage pcd epcd previous regard wright gener contain anthocyanin green color due aggreg chloroplast within cell sometim surround nucleu cell denot consist cell red green line next delin cell found center window latest stage cell death lpcd previous lord bmc plant biolog page http www biomedcentr com progress development pcd within lace plant leaf stage delin leaf morphogenesi lace plant leaf pcd progress whole plant grow steril cultur magenta box fill liquid solid murashig skoog medium stage pre perfor lace plant leaf note abund pink pigment anthocyanin within cell leaf also note one full areol shown bound vascular tissu stage window stage lace plant leaf note distinct clear area center vasculatur tissu indic loss pigment anthocyanin chlorophyl stage perfor format lace plant leaf cell center clear window begun break away form hole center areol stage perfor expans lace plant leaf note cell death stop approxim cell vascular tissu stage complet perfor lace plant leaf cell border perfor transdifferenti becom epiderm cell scale bar descript pcd gradient within window stage lace plant leaf three part differenti areol within stage window stage leaf detach stage window stage leaf note green pink color due presenc pigment chlorophyl anthocyanin respect singl side window stage leaf cut midrib note gradient pcd pcd advanc closest midrib bottom least advanc toward leaf edg top pcd also delin level singl areol within singl areol stage window stage leaf cell closest vasculatur tissu white red line undergo pcd known non pcd cell npcd npcd cell often contain mark amount pigment anthocyanin next group cell red green line earli stage pcd known earli pcd cell epcd epcd cell often contain mark amount pigment chlorophyl centermost cell green line inward cell late stage pcd known late pcd cell lpcd lpcd cell lost pigment clear natur scale bar regard wright cell repres consist cell within green line presenc differ stage pcd within one areol provid conveni gradient cell death whole leaf observ facilit follow determin optim dye load concentr incub time period leaf section incub mitotrack red cmxro cmxro hour room temperatur dark follow intens rins procedur leaf piec stain via method display intens mitochondri stain littl background stain although note small amount cmxro dye sequest cell wall despit presenc absenc mitochondrion stain allow distribut mitochondrion easili identifi within cell also permit analysi chang mitochondrion motil analysi mitochondri motil complet select still imag time laps video singl epiderm cell time sec sec mitochondrion time sec remain red mitochondrion time sec fals color green imag overlaid provid inform mitochondri movement within singl areol stage window stage leaf mitochondri dynam delin four categori base gradient pcd import note although stage seen simultan window stage leaf areol one examin pre perfor stage window cell death yet visibl stage mitochondrion would present data shown stage mitochondrion consist found healthi npcd cell white red line mitochondrion gener seen individu appear intact membran crista illustr activ stream within cytosol see addit file stage mitochondrion gener found within epcd window stage cell red green line surround interior border npcd cell mitochondrion gener seen cluster sever small aggreg individu mitochondrion surround cytosol movement stage mitochondri aggreg sporad random quicker stage mitochondrion see addit file stage mitochondrion gener found within lpcd window stage cell green line green asterisk mitochondrion seen aggreg individu mitochondrion within surround cytosol mitochondrion begin display degrad crista unclear inner outer membran stage mitochondri aggreg also show littl movement compar stage mitochondrion see addit file lastli stage mitochondrion also gener locat within lpcd cell closest center areol denot asterisk show absolut stain mitochondrion appear dramat degrad crista nearli indistinguish membran via tem imag also display movement see addit file mitochondri distribut stage within window stage lace plant leaf mitochondrion within window stage leaf stain cmxro examin via confoc microscopi view organel distribut throughout pcd gradient within individu cell stage dic correspond cmxro fluoresc imag respect tem micrograph healthi mitochondrion depict intact mitochondri membran crista stage dic correspond cmxro fluoresc imag respect note mitochondrion aggreg within cell sever individu mitochondrion still present cytosol tem micrograph mitochondrion within die cell depict appear healthi mitochondrion intact crista clear membran stage dic correspond cmxro fluoresc imag respect mitochondrion still aggreg within cell tem micrograph degrad mitochondrion mitochondri crista appear degrad le clear inner outer membran compar control stage dic correspond cmxro fluoresc imag respect note mitochondrion lost membran potenti entir longer visibl fluoresc imag mitochondrion consid viabl tem micrograph presum dead mitochondrion depict nearli indistinguish membran damag crista scale bar vivo examin mitochondri motil membran potenti stage mitochondrion within singl areol window stage lace plant leaf still imag select time laps video time time second follow cmxro stain mitochondrion time sec imag fals color green allow compar overlay imag demonstr mitochondri motil time second cmxro stain imag mitochondrion pcd gradient npcd lpcd respect time second cmxro stain imag mitochondrion pcd gradient npcd lpcd respect overlay time second still imag mitochondrion pcd gradient npcdlpcd respect note mitochondrion move overlay imag appear yellow overlay imag character rapid mitochondri movement stage mitochondrion follow decreas mitochondri motil stage mitochondrion also note loss mitochondri stain mitochondrion indic organel appear undergon membran permeabl transit lost membran potenti still imag taken addit file still imag taken addit file still imag taken addit file still imag taken addit file scale bar mitochondri stage distribut dynam state compar window stage cell stage stage mitochondrion show littl mitochondri stain thu expect undergon mpt note despit lack mitochondri fluoresc stage mitochondrion ruptur inner outer mitochondri membran observ result indic mitochondrion well associ chloroplast appear move transvacuolar strand see addit file possibl allow rapid organ movement within cell illustr still imag taken success stack progress epcd stage singl cell mitochondrion chloroplast appear distinct associ one anoth instanc appear congreg around nucleu imag also illustr mitochondrion chloroplast move clear line trajectori toward nucleu along appear transvacuolar strand stage cell still healthi illustr effect optim concentr csa vivo perfor format within lace plant photograph box plant harvest leaf control ethanol csa treat plant clearli display decreas perfor format concentr csa also examin data shown chosen minimum concentr statist reduc perfor number caus toxic effect treatment consid toxic includ within remaind experi effect csa seem dissip follow growth three new leaf sam indic initi rapid uptak csa possibl rapid disintegr csa overtim kot eee iad pe ket sot peer eee sasha iaa lise rae ike stilt ite auld yak progress stack seri singl cell illustr mitochondrion chloroplast associ transvacuolar strand within lace plant window stage leaf stack progress consist four focal plane within one cmxro stain cell center window stage leaf areol red fluoresc repres mitochondrion green fluoresc repres chlorophyl autofluoresc dic correspond fluoresc imag respect top plane cell note mitochondrion chloroplast around nucleu dic correspond fluoresc imag respect lower focal plane dic correspond fluoresc imag respect middl focal plane within cell note continu associ chloroplast mitochondrion around nucleu appear strand lower right hand corner cell dic correspond fluoresc imag respect display lower focal plane within cell note transvacuolar strand appear cmxro stain mitochondrion associ scale bar light micrograph npcd epcd lpcd stage cell illustr variat transvacuolar strand activ npcd stage cell depict sever transvacuolar strand black arrow mitochondrion chloroplast appear associ see addit file epcd stage cell show increas number transvacuolar strand black arrow continu associ mitochondrion chloroplast depend focal plane cell transvacuolar strand appear connect cell peripheri nucleu see addit file lpcd stage cell illustr decreas number transvacuolar strand organel affili see addit file stain cmxro examin mitochondri dynam mitochondri dynam examin within one areol vascular tissu pcd would occur control leaf mitochondrion examin area would equal npcd epcd lpcd area within control window stage leaf csa treat mitochondrion qualit analysi effect csa mitochondri ptp antagonist lace plant pcd repres digit imag whole lace plant magenta box harvest leaf order emerg correspond box form csa experi whole lace plant correspond leaf harvest control plant respect whole lace plant correspond leaf harvest control respect harvest leaf imag leaf arrang chronolog order format leaf repres leaf form prior initi experi subsequ leaf form initi experi note inhibit perfor format primarili visibl leaf csa treat plant scale bar quantit analysi effect csa mitochondri ptp antagonist lace plant pcd effect csa mean ratio number perfor per leaf length control treatment group mean ratio number perfor per leaf length decreas increas concentr csa indic inhibit ptp via csa reduc amount pcd occur lace plant leaf signific relationship found control treatment group signific relationship found treatment group number leaf per control treatment group rang bar letter significantli differ vivo examin mitochondri distribut follow pre treatment mitochondri ptp inhibitor csa chang mitochondri dynam within one areol examin cellular area npcd lpcd observ within control window stage leaf singl areol within csa treat leaf day follow emerg sam dic cmxro imag cell correspond npcd window stage cell respect dic cmxro imag cell correspond epcd window stage cell respect dic cmxro imag cell correspond lpcd window stage cell respect note even distribut mitochondrion stage scale bar vivo examin mitochondri motil membran potenti follow pre treatment mitochondri ptp inhibitor csa still imag select time laps video time time second follow csa treatment subsequ cmxxro stain mitochondrion time second imag fals color green allow compar overlay imag demonstr mitochondri motil note red green overlap mitochondrion appear yellow presum still time second cmxro stain imag csa treat leaf correspond npcd epcd lpcd cell respect time second cmxro stain imag csa treat leaf correspond npcd epcd lpcd cell respect overlay time second still imag correspond npcd epcd lpcd cell respect overlay imag character rapid mitochondri movement csa treat leaf still imag taken addit file still imag taken addit file still imag taken addit file scale bar discuss model studi organel chang development regul program cell death process within studi show import uniqu predict system development mitochondrion within earli stage pcd regul pcd within lace plant offer excel addit illustr possibl strong lord bmc plant biolog http www biomedcentr com correl mitochondrion organel includ chloroplast nucleu transvacuolar strand observ chloroplast form ring format around nucleu lace plant mid late stage pcd report previous wright howev first report associ mitochondrion chloroplast surround nucleu reason known howev possibl congreg due structur function relationship aid pcd process given activ movement mitochondrion chloroplast transvacuolar strand toward nucleu seen live cell imag see addit file confirm associ due plasma membran shrinkag given none present phenomenon note cucumb pea rye plant follow induc cell death ethylen illustr mitochondrion locat parenchyma cell attract nuclear envelop pcd author report attract led condens chromatin site organel contact thu consid structur mechan pcd promot aggreg mitochondrion appear first visibl shift mitochondri dynam development regul pcd lace plant agereg mitochondrion also demonstr induc cell death system scott logan yao gao arabidopsi protoplast also lord gunawardena lace plant protoplast reason format aggreg unknown previou studi report mitochondri aggreg pcd arabidopsi lace plant tobacco protoplast locat cytosol cell howev recent data unpublish gunawardena lab suggest aggreg may insid vacuol later stage pcd recent find along rapid random movement aggreg suggest aggreg may move cytosol vacuol late pcd possibl degrad also studi never observ aggreg move along tv suggest may vacuol time previou studi wright development pcd lace plant provid evid similar aggreg contain chloroplast possibl mitochondrion insid vacuol undergo brownian motion later stage pcd see supplementari video howev whether aggreg first thin follow aggreg mitochondrion display subsequ reduct stream cessat stream also demonstr mitochondrion sever induc cell death exampl arabidopsi protoplast arabidopsi leaf disc tobacco cell lace plant protoplast impair mitochondri movement commonli seen follow induct cell death thought highli correl acut chang cellular redox statu well remaind cell death process follow mitochondri aggreg cessat stream appear undergo mpt character loss cmxro stain decreas appear occur mitochondrion possibl indic first visibl indic membran transit thu possibl first releas im protein releas im compon time would correl appar degrad inner mitochondri structur stage pcd decreas mitochondri note key characterist cell death anim system also demonstr varieti plant exampl includ induc cell death arabidopsi protoplast isol oat mitochondrion lace plant protoplast also development regul cell death isol zinnia treacheri element cell trend note within singl areol stage window stage leaf cell contain tunel posit nucleu gener correl cell contain stage mitochondrion tunel posit nucleu seen npcd cell contain stage mitochondrion result expect given cell pre dispos undergo cell death tunel posit nucleu also absent epcd cell contain stage mitochondri aggreg result clearli indic mitochondri chang begun prior fragment nuclear dna lead tunel posit nucleu tunel posit nucleu consist seen within lpcd cell contain either stage mitochondrion trend also allow conclud mitochondri chang particularli seen stage stage mitochondrion includ cessat mitochondri movement complet loss probabl occur simultan fragment nuclear dna note presenc tunel posit nucleu within area lord bmc plant biolog http www biomedcentr com increas number transvacuolar strand note window stage leaf cell earli stage pcd epcd cell increas instanc transvacuolar strand common characterist pcd note previous development cell death lace plant induc cell death lace plant protoplast also induc cell death osmot stress tobacco suspens cultur increas transvacuolar strand could aid movement organel chloroplast mitochondrion within plant cell within system organel seen travel along thin strand span vacuol cell sometim appear move toward nucleu appear strand decreas pcd progress transvacuolar strand present lpcd stage cell applic ptp agonist csa lace plant system mark first time knowledg inhibitor ever appli vivo inhibitor previous use induc cell death exampl cell cultur isol protoplast isol mitochondrion development regul pcd exampl csa employ differenti zinnia exampl consid vitro due cell isol plant prior csa treatment applic csa lace plant magenta box led reduct perfor format leaf produc follow addit inhibitor signific decreas perfor format within lace plant via csa applic indirectli indic ptp pathway may play role cellular death within system although involv ptp anim pcd well support controversi similar complex role releas im protein plant pcd shown follow author studi examin tobacco protoplast sycamor cell mitochondrion isol either winter wheat potato tuber well develop tracheari element provid evid suggest csa effect inhibit delay pcd arguabl suggest role ptp plant pcd howev also studi demonstr insensit plant pcd csa lin report delay reduct pcd suggest may provid evid altern pathway anim system altern pathway releas im protein involv bcl famili protein howev date direct evid bcl famili protein plant inhibitor experi howev provid indirect evid bcl2 like famili protein activ plant contrast studi experi report signific reduct pcd follow csa pre treatment suggest absenc altern pathway system provid indirect evid role play ptp lace plant pcd howev studi requir examin role ptp releas im protein mitochondrion cytosol csa concentr lower rang result significantli lower amount perfor compar control data shown observ expect given inhibitor dissolv liquid appli whole plant therefor higher concentr may requir order affect ptp csa significantli reduc amount perfor lace plant compar control also maintain healthi leaf appear observ perfor form concentr form control transient leaf clear occur indic may lower limit toxic csa lace plant csa treatment result brown clear leaf therefor concentr consid toxic includ subsequ statist analysi overal research conclud csa ideal concentr inhibit open ptp lace plant development regul pcd concentr also util optim concentr plant exampl includ sycamor cell reason csa treat leaf four day follow emerg sam chosen examin leaf therefor similar development age window stage leaf examin previous csa treat leaf depict numer round mitochondrion gener remain individu within cytosol form aggreg cell type equal npcd lpcd mitochondrion also remain stream within entir areol appear undergo membran permeabl transit caus loss membran potenti cmxro stain given treatment csa hypothes block releas im protein mitochondrion would anticip variat mitochondri dynam within system intens mitochondri fluoresc anticip drug hypothes inhibit ptp possibl subsequ mpt round swollen appear mitochondrion follow csa treatment also note although reason behind unknown need investig overal csa treat mitochondrion display characterist close resembl mitochondri dynam pcd occur lord bmc plant biolog http www biomedcentr com result present elucid organel dynam focus mitochondrion development regul pcd lace plant madagascariensi develop leaf pcd initi window stage stain mitochondri membran potenti sensit dye cmxro examin via live cell imag confoc fluoresc microscopi observ mitochondri aggreg motil lead classif mitochondrion one four stage m1m4 base locat window stage leaf areol find also indic within singl areol stage window stage leaf gradient tunel posit nucleu stain exist tunel posit nucleu seen cell contain stage mitochondrion seen cell stage mitochondrion correl suggest mitochondri agereg occur prior dna fragment wherea cessat mitochondri stream membran permeabl transit result complet loss base cmxro stain probabl occur concurr fragment nuclear dna mitochondrion chloroplast examin via live cell imag highlight role transvacuolar strand movement organel ring format around nucleu function mitochondri ptp pcd develop lace plant leaf also indirectli examin via csa pre treatment examin csa treat mitochondrion reveal individu organel continu mitochondri stream loss membran potenti cellular area npcd lpcd within one areol overal result present detail organel dynam development regul pcd whole lace plant tissu suggest mitochondrion play import role earli stage pcd lace plant use experiment purpos grown steril cultur magenta box maintain via subcultur describ gunawardena plant grown light dark cycl provid daylight simul fluoresc bulb philip daylight delux f40t12 markham ontario approxim umol chemic purchas sigma loui usa unless otherwis state experi complet least three time unless otherwis state imag variou leaf stage taken use differenti interfer contrast dic optic eclips 90i compound microscop nikon canada mississauga ontario canada fit digit camera nikon dxm 1200c use ni element imag analysi softwar microscop also use acquir sever addit file live cell imag video real time unless otherwis state confoc observ perform use nikon eclips confoc microscop nikon canada mississauga ontario canada fit digit camera nikon fil use imag softwar control confoc microscop observ perform use dic optic complimentari fluoresc imag taken via fluorescein isothiocyan fitc excit emiss tetramethyl rhodamin iso thiocyan tritc excit emiss laser fals color imag prepar gener still imag select time laps video time time second follow cmxro stain mitochondrion time sec imag fals color green overlaid onto time imag demonstr mitochondri motil microscop also use acquir sever addit file live cell imag video real time unless otherwis state composit plate assembl use adob photoshop element version tissu piec approxim excis window stage leaf fix glutaraldehyd sodium cacodyl buffer hour vacuum psi follow overnight incub sampl rins buffer post fix aqueou osmium tetroxid room temperatur tissu dehydr grade ethanol seri place ethanol spurr resin mixtur tissu final embed pure spurr resin polymer 70c gold section prepar reichert jung ultra microtom collect onto formvar coat grid stain lead citrat uranyl acet observ made use philip transmiss electron microscop eindhoven netherland philip tecnai transmiss electron microscop philip electron optic eindhoven netherland oper fit kodak rochest new york usa megaview camera softwar analysi soft imag system miinster germani mediat dutp nick end label tunel assay perform accord manufactur instruct roch agnost mannheim germani nucleu counterstain incub propidium iodid min sampl observ via confoc microscopi neg control perform without termin deoxynucleotidyl transferas enzym posit control perform dnasel1 mitochondri stain tissu piec approxim excis window stage leaf stain one hour cmxro invitrogen eugen usa dissolv dimethylsulfoxid dmso leaf section rins ddh eight time shaken minut ddh approxim rpm leaf section mount slide excit tritc cube excit emiss view mitochondri fluoresc fitc cube excit emiss view correspond chlorophyl autofluoresc use confoc microscop four stage mitochondri dynam consist within window stage leaf view surfac epiderm cell mitochondrion push plasma membran howev look deeper epiderm cell mitochondrion found within thin ring cytoplasm plasma membran tonoplast membran due differ focal plane orient mitochondri dynam vari appear import therefor quantit measur video imag taken top portion epiderm cell mitochondri stain complet least time healthi plant week age contain least perfor leaf select use csa trial plant divid random experiment control group steril condit liquid medium pour magenta box replac fresh liquid medium treatment group csa stock dissolv ethanol ad liquid medium make final concentr csa box control plant equival volum ethanol ad liquid medium plant return growth rack normal light condit proper stage harvest digit photograph acquir nikon coolpix p5000 camera nikon canada inc mississauga canada taken plant concentr least twice week order track growth newli emerg leaf examin mitochondrion leaf treat csa cmxro stain carri describ plant consid readi harvest follow approxim week initi inhibitor experi use success imag taken week label mean adob photoshop element version leaf identifi remov respect magenta box petiol leaf cut length number perfor per leaf count indic pcd leaf length also measur indic normal leaf develop number perfor individu leaf divid individu leaf length obtain variabl ratio number perfor per leaf length variabl inclus measur pcd sole number perfor due account assumpt number perfor depend part leaf length leaf individu blot dri flatten hand align chronolog order emerg photographi purpos addit file stage mitochondri dynam cmxro stain npcd cell highlight stage mitochondri dynam note individu mitochondrion activ stream within cytosol addit file stage mitochondri dynam cmxro stain epcd cell highlight stage mitochondri dynam note aggreg mitochondrion along sever individu mitochondrion appear move addit file stage mitochondri transit cmxro stain epcd cell dic overlay video highlight transit stage stage mitochondrion note mitochondri aggreg move toward nucleu follow cessat movement video 15x normal speed addit file stage mitochondri dynam cmxro stain lpcd cell highlight stage mitochondri dynam note absenc movement mitochondri aggreg addit file transvacuolar strand npcd stage cell npcd stage cell show sever transvacuolar strand highlight close associ possibl movement mitochondrion chloroplast along video 20x normal speed addit file transvacuolar strand epcd stage cell epcd stage cell show increas transvacuolar strand activ highlight close associ possibl movement mitochondrion chloroplast along note trajectori strand organel toward nucleu video 20x normal speed addit file transvacuolar strand lpcd stage cell lpcd stage cell show decreas number transvacuolar strand absenc organel note although mitochondri stream often ceas point slight cytoplasm stream visual mesophyl cell point focu video 20x normal speed addit file mitochondri dynam csa treat npcd stage cell csa treat leaf subsequ stain cmxro depict singl cell correspond npcd window stage cell note individu mitochondrion rapidli move within cytosol addit file mitochondri dynam csa treat epcd stage cell csa treat leaf subsequ stain cmxro depict singl cell correspond epcd window stage cell note individu mitochondrion rapidli move cytosol addit file mitochondri dynam csa treat lpcd stage cell csa treat leaf subsequ stain cmxro depict singl cell correspond lpcd window stage cell note mani individu mitochondrion sever small aggreg rapidli move author thank nanci dengler univers toronto canada critic review manuscript harrison wright dalhousi univers canada provid tem imag author also greatli acknowledg sarah lawson botan research scholarship dalhousi univers summer fund canadian foundat innov cfi leader opportun fund natur scienc engin research council nserc discoveri equip grant dalhousi univers partial doctor fund cll cenl carri experi pharmacolog applic harvest light fluoresc confoc dic microscop observ measur along conceptu mitochondri stage cenl complet statist analysi draft revis final manuscript also contribut final manuscript complet revis complet transvacuolar strand observ use light microscopi live cell imag ahlang conceiv studi particip design coordin help draft revis manuscript supervis experiment work author read approv final manuscript vacca pinto valenti passarella marra gara product reactiv oxygen speci alter cytosol ascorb peroxidis impair mitochondri metabol earli']"
            ]
          },
          "metadata": {
            "tags": []
          },
          "execution_count": 17
        }
      ]
    },
    {
      "cell_type": "code",
      "metadata": {
        "id": "8-mzpxetDRLH"
      },
      "source": [
        "df_question,tf_idf_question_vectorizer = Tf_Idf_Matrix(df.Vect_Question)"
      ],
      "execution_count": null,
      "outputs": []
    },
    {
      "cell_type": "code",
      "metadata": {
        "id": "PeLv3yOPDj3N"
      },
      "source": [
        "df_full_txt,tf_idf_full_txt_vectorizer = Tf_Idf_Matrix(df.Vect_full_txt)"
      ],
      "execution_count": null,
      "outputs": []
    },
    {
      "cell_type": "code",
      "metadata": {
        "id": "H1NH6CRz4vrt"
      },
      "source": [
        "df_full_txt,df_question = resize_matrices(df_question,df_full_txt)"
      ],
      "execution_count": null,
      "outputs": []
    },
    {
      "cell_type": "code",
      "metadata": {
        "id": "ZBYY7iOQo8zZ",
        "colab": {
          "base_uri": "https://localhost:8080/"
        },
        "outputId": "af8b9fef-b13e-4b9a-c9e3-e73165061333"
      },
      "source": [
        "score = normalize(np.dot(df_question.values , df_full_txt.values.transpose()))"
      ],
      "execution_count": null,
      "outputs": [
        {
          "output_type": "stream",
          "text": [
            "/usr/local/lib/python3.7/dist-packages/ipykernel_launcher.py:4: RuntimeWarning: invalid value encountered in true_divide\n",
            "  after removing the cwd from sys.path.\n"
          ],
          "name": "stderr"
        }
      ]
    },
    {
      "cell_type": "code",
      "metadata": {
        "id": "jGfKr1eEqjd1",
        "colab": {
          "base_uri": "https://localhost:8080/"
        },
        "outputId": "9e118620-0e48-498f-d904-d600980f9477"
      },
      "source": [
        "five_doc = Document_Retrivier_tfidf(df_question,df_full_txt,n=3)"
      ],
      "execution_count": null,
      "outputs": [
        {
          "output_type": "stream",
          "text": [
            "/usr/local/lib/python3.7/dist-packages/ipykernel_launcher.py:4: RuntimeWarning: invalid value encountered in true_divide\n",
            "  after removing the cwd from sys.path.\n"
          ],
          "name": "stderr"
        }
      ]
    },
    {
      "cell_type": "code",
      "metadata": {
        "colab": {
          "base_uri": "https://localhost:8080/"
        },
        "id": "fZ8OKWy6YbFH",
        "outputId": "16ab50c9-f7a6-49b4-c1da-8ae472d7e124"
      },
      "source": [
        "Accuracy(five_doc[:710],range(711))"
      ],
      "execution_count": null,
      "outputs": [
        {
          "output_type": "execute_result",
          "data": {
            "text/plain": [
              "0.8591549295774648"
            ]
          },
          "metadata": {
            "tags": []
          },
          "execution_count": 172
        }
      ]
    },
    {
      "cell_type": "code",
      "metadata": {
        "colab": {
          "base_uri": "https://localhost:8080/"
        },
        "id": "OGQwvpZXOrDk",
        "outputId": "b0b425b7-dca7-43a2-f935-97cba87098e4"
      },
      "source": [
        "x,y = eval(df_question[:710],df_full_txt[:710])"
      ],
      "execution_count": null,
      "outputs": [
        {
          "output_type": "stream",
          "text": [
            "/usr/local/lib/python3.7/dist-packages/ipykernel_launcher.py:4: RuntimeWarning: invalid value encountered in true_divide\n",
            "  after removing the cwd from sys.path.\n"
          ],
          "name": "stderr"
        }
      ]
    },
    {
      "cell_type": "code",
      "metadata": {
        "colab": {
          "base_uri": "https://localhost:8080/",
          "height": 282
        },
        "id": "LLRBwYL9Ph1Q",
        "outputId": "0fa6d3c7-91d1-43dd-f36a-3e99c1e81deb"
      },
      "source": [
        "fig = plt.figure()\n",
        "ax = plt.axes()\n",
        "ax.plot(list(range(1,11)), y)"
      ],
      "execution_count": null,
      "outputs": [
        {
          "output_type": "execute_result",
          "data": {
            "text/plain": [
              "[<matplotlib.lines.Line2D at 0x7f5db263ff10>]"
            ]
          },
          "metadata": {
            "tags": []
          },
          "execution_count": 57
        },
        {
          "output_type": "display_data",
          "data": {
            "image/png": "[encoded data removed]",
            "text/plain": [
              "<Figure size 432x288 with 1 Axes>"
            ]
          },
          "metadata": {
            "tags": [],
            "needs_background": "light"
          }
        }
      ]
    },
    {
      "cell_type": "code",
      "metadata": {
        "colab": {
          "base_uri": "https://localhost:8080/"
        },
        "id": "jZSTvQ61wrx6",
        "outputId": "5e770b50-ac04-41b2-d24f-9a43538bd950"
      },
      "source": [
        "Accuracy(baseline_doc[:710],range(711))"
      ],
      "execution_count": null,
      "outputs": [
        {
          "output_type": "execute_result",
          "data": {
            "text/plain": [
              "0.9211267605633803"
            ]
          },
          "metadata": {
            "tags": []
          },
          "execution_count": 113
        }
      ]
    },
    {
      "cell_type": "code",
      "metadata": {
        "id": "fl5vo1W4J4Vu",
        "colab": {
          "base_uri": "https://localhost:8080/"
        },
        "outputId": "ffb59305-ad6e-4f40-b9a3-ee7e493a3057"
      },
      "source": [
        "baseline_doc = Document_Retrivier_Baseline(df_question,df_full_txt,thresholder=0.7,gamma=10)"
      ],
      "execution_count": null,
      "outputs": [
        {
          "output_type": "stream",
          "text": [
            "/usr/local/lib/python3.7/dist-packages/ipykernel_launcher.py:4: RuntimeWarning: invalid value encountered in true_divide\n",
            "  after removing the cwd from sys.path.\n"
          ],
          "name": "stderr"
        }
      ]
    },
    {
      "cell_type": "code",
      "metadata": {
        "colab": {
          "base_uri": "https://localhost:8080/"
        },
        "id": "FTm92Ua5zjry",
        "outputId": "51c0863d-0f03-40ce-8386-15f96a0a5d4a"
      },
      "source": [
        "score[500][500]"
      ],
      "execution_count": null,
      "outputs": [
        {
          "output_type": "execute_result",
          "data": {
            "text/plain": [
              "0.9167975348366469"
            ]
          },
          "metadata": {
            "tags": []
          },
          "execution_count": 29
        }
      ]
    },
    {
      "cell_type": "code",
      "metadata": {
        "colab": {
          "base_uri": "https://localhost:8080/"
        },
        "id": "7zt5j9vvzKpv",
        "outputId": "39be82a5-cc9d-4fd2-ef47-821a601f051a"
      },
      "source": [
        "sum = 0\n",
        "for elm in baseline_doc[0:711]:\n",
        "  sum+=len(elm.keys())\n",
        "sum/711"
      ],
      "execution_count": null,
      "outputs": [
        {
          "output_type": "execute_result",
          "data": {
            "text/plain": [
              "8.635724331926864"
            ]
          },
          "metadata": {
            "tags": []
          },
          "execution_count": 171
        }
      ]
    },
    {
      "cell_type": "code",
      "metadata": {
        "colab": {
          "base_uri": "https://localhost:8080/"
        },
        "id": "AOd5qeBQX_FI",
        "outputId": "1152599c-f37b-4997-95f1-e29cb8609a3a"
      },
      "source": [
        "X,y = generate_train_data(df_question,df_full_txt)\n"
      ],
      "execution_count": null,
      "outputs": [
        {
          "output_type": "stream",
          "text": [
            "/usr/local/lib/python3.7/dist-packages/ipykernel_launcher.py:4: RuntimeWarning: invalid value encountered in true_divide\n",
            "  after removing the cwd from sys.path.\n"
          ],
          "name": "stderr"
        }
      ]
    },
    {
      "cell_type": "code",
      "metadata": {
        "id": "Z7vd7EUF-IMW"
      },
      "source": [
        "reg = model_reg_ordinal(X,y)"
      ],
      "execution_count": null,
      "outputs": []
    },
    {
      "cell_type": "code",
      "metadata": {
        "id": "f5AVsPMT82Bk"
      },
      "source": [
        "y_pred = (reg.predict(X_test) + 1).astype(int) "
      ],
      "execution_count": null,
      "outputs": []
    },
    {
      "cell_type": "code",
      "metadata": {
        "id": "HkphH_rJOjsn"
      },
      "source": [
        "adaptive_model = adaptive(y_pred,five_doc[:710])"
      ],
      "execution_count": null,
      "outputs": []
    },
    {
      "cell_type": "code",
      "metadata": {
        "colab": {
          "base_uri": "https://localhost:8080/"
        },
        "id": "Iav_ZJ9BPXys",
        "outputId": "76117023-e859-4c05-8608-f7e5563cc37e"
      },
      "source": [
        "Accuracy(adaptive_model,range(len(adaptive_model)))"
      ],
      "execution_count": null,
      "outputs": [
        {
          "output_type": "execute_result",
          "data": {
            "text/plain": [
              "0.8297872340425532"
            ]
          },
          "metadata": {
            "tags": []
          },
          "execution_count": 166
        }
      ]
    }
  ]
}